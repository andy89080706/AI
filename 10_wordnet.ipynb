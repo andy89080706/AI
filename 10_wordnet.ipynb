{
  "nbformat": 4,
  "nbformat_minor": 0,
  "metadata": {
    "colab": {
      "name": "10.wordnet.ipynb",
      "provenance": [],
      "collapsed_sections": []
    },
    "kernelspec": {
      "name": "python3",
      "display_name": "Python 3"
    },
    "language_info": {
      "name": "python"
    }
  },
  "cells": [
    {
      "cell_type": "markdown",
      "metadata": {
        "id": "view-in-github"
      },
      "source": [
        "<a href=\"https://colab.research.google.com/github/shhuangmust/AI/blob/110-2/10.wordnet.ipynb\" target=\"_parent\"><img src=\"https://colab.research.google.com/assets/colab-badge.svg\" alt=\"Open In Colab\"/></a>"
      ]
    },
    {
      "cell_type": "markdown",
      "source": [
        "# 中文wordnet\n",
        "完整用法：https://github.com/lopentu/CwnGraph\n",
        "\n",
        "- 要表達字詞，必須透過向量的表示法，例如one-hot encoding\n",
        "- 然而一個字詞代表一個向量維度，會造成向量維度空間太大，造成之後計算困難，因此必須要把相似字詞做合併\n",
        "- 早期的用法是透過查詢wordnet。wordnet是透過人工的方式，建立起字詞之間的關係\n",
        "- 本範例介紹中文的wordnet，查詢\"頭\"這個字，看有多少跟\"頭\"相關的字詞\n",
        "- 另外介紹英文的wordnet，查詢跟\"dog\"相似的字詞"
      ],
      "metadata": {
        "id": "NLZPCMu0_SMu"
      }
    },
    {
      "cell_type": "code",
      "source": [
        "!pip install CwnGraph"
      ],
      "metadata": {
        "id": "2E02jlhZ8rr7",
        "outputId": "13a232d6-d039-48d7-975b-430a370a0a71",
        "colab": {
          "base_uri": "https://localhost:8080/"
        }
      },
      "execution_count": 1,
      "outputs": [
        {
          "output_type": "stream",
          "name": "stdout",
          "text": [
            "Collecting CwnGraph\n",
            "  Downloading CwnGraph-0.2.0.tar.gz (27 kB)\n",
            "Requirement already satisfied: gdown in /usr/local/lib/python3.7/dist-packages (from CwnGraph) (4.4.0)\n",
            "Requirement already satisfied: filelock in /usr/local/lib/python3.7/dist-packages (from gdown->CwnGraph) (3.6.0)\n",
            "Requirement already satisfied: six in /usr/local/lib/python3.7/dist-packages (from gdown->CwnGraph) (1.15.0)\n",
            "Requirement already satisfied: requests[socks] in /usr/local/lib/python3.7/dist-packages (from gdown->CwnGraph) (2.23.0)\n",
            "Requirement already satisfied: tqdm in /usr/local/lib/python3.7/dist-packages (from gdown->CwnGraph) (4.64.0)\n",
            "Requirement already satisfied: beautifulsoup4 in /usr/local/lib/python3.7/dist-packages (from gdown->CwnGraph) (4.6.3)\n",
            "Requirement already satisfied: urllib3!=1.25.0,!=1.25.1,<1.26,>=1.21.1 in /usr/local/lib/python3.7/dist-packages (from requests[socks]->gdown->CwnGraph) (1.24.3)\n",
            "Requirement already satisfied: certifi>=2017.4.17 in /usr/local/lib/python3.7/dist-packages (from requests[socks]->gdown->CwnGraph) (2021.10.8)\n",
            "Requirement already satisfied: chardet<4,>=3.0.2 in /usr/local/lib/python3.7/dist-packages (from requests[socks]->gdown->CwnGraph) (3.0.4)\n",
            "Requirement already satisfied: idna<3,>=2.5 in /usr/local/lib/python3.7/dist-packages (from requests[socks]->gdown->CwnGraph) (2.10)\n",
            "Requirement already satisfied: PySocks!=1.5.7,>=1.5.6 in /usr/local/lib/python3.7/dist-packages (from requests[socks]->gdown->CwnGraph) (1.7.1)\n",
            "Building wheels for collected packages: CwnGraph\n",
            "  Building wheel for CwnGraph (setup.py) ... \u001b[?25l\u001b[?25hdone\n",
            "  Created wheel for CwnGraph: filename=CwnGraph-0.2.0-py3-none-any.whl size=28834 sha256=7c412987c191a709ebb1625bb0d474bf912cd6c8948b6829d4afa0c250009a11\n",
            "  Stored in directory: /root/.cache/pip/wheels/9d/35/e7/8f40ef849b2c591674f2cad419eac267821203ed5859b3f68b\n",
            "Successfully built CwnGraph\n",
            "Installing collected packages: CwnGraph\n",
            "Successfully installed CwnGraph-0.2.0\n"
          ]
        }
      ]
    },
    {
      "cell_type": "markdown",
      "source": [
        "# 將`cwn_graph.pyobj`上傳到colab目錄\n",
        "- cwn_graph.pyobj下載連結：https://github.com/joshhu/nlp_must2022/raw/main/cwn_graph.pyobj\n",
        "- 下載完成後，上傳至colab目錄，需等待上傳結束後，才可以繼續下一步執行 (上傳需數分鐘)"
      ],
      "metadata": {
        "id": "-1W4TtOp-L44"
      }
    },
    {
      "cell_type": "code",
      "execution_count": 7,
      "metadata": {
        "colab": {
          "base_uri": "https://localhost:8080/"
        },
        "id": "Kuuu-WmF8M5u",
        "outputId": "e002365e-8768-45ed-9945-fc23a93548c9"
      },
      "outputs": [
        {
          "output_type": "stream",
          "name": "stdout",
          "text": [
            "CWN data installed\n"
          ]
        }
      ],
      "source": [
        "from pprint import pprint\n",
        "from CwnGraph import CwnBase\n",
        "CwnBase.install_cwn(\"cwn_graph.pyobj\")"
      ]
    },
    {
      "cell_type": "markdown",
      "source": [
        "cwn的資料"
      ],
      "metadata": {
        "id": "aBMeH15wyBD-"
      }
    },
    {
      "cell_type": "code",
      "source": [
        "from CwnGraph import CwnBase\n",
        "cwn = CwnBase()"
      ],
      "metadata": {
        "id": "TRJpglUX8eX7"
      },
      "execution_count": 8,
      "outputs": []
    },
    {
      "cell_type": "markdown",
      "source": [
        "**尋找有關\"\"裡的文字**"
      ],
      "metadata": {
        "id": "yolZ8m4wxqnd"
      }
    },
    {
      "cell_type": "code",
      "source": [
        "lemmas = cwn.find_lemma(\"馬\")\n",
        "lemmas"
      ],
      "metadata": {
        "colab": {
          "base_uri": "https://localhost:8080/"
        },
        "id": "IyFF5sOw9QQj",
        "outputId": "815d50c2-1661-421e-bf96-564a9b16bd42"
      },
      "execution_count": 10,
      "outputs": [
        {
          "output_type": "execute_result",
          "data": {
            "text/plain": [
              "[<CwnLemma: 馬偕_1>,\n",
              " <CwnLemma: 馬上_1>,\n",
              " <CwnLemma: 馬克思_1>,\n",
              " <CwnLemma: 出馬_1>,\n",
              " <CwnLemma: 馬上_2>,\n",
              " <CwnLemma: 馬_1>,\n",
              " <CwnLemma: 人馬座_1>,\n",
              " <CwnLemma: 馬_2>,\n",
              " <CwnLemma: 馬_3>,\n",
              " <CwnLemma: 馬_4>,\n",
              " <CwnLemma: 馬_5>,\n",
              " <CwnLemma: 馬_6>,\n",
              " <CwnLemma: 馬_7>,\n",
              " <CwnLemma: 馬_8>,\n",
              " <CwnLemma: 費馬_1>,\n",
              " <CwnLemma: 馬克斯_1>,\n",
              " <CwnLemma: 馬可波羅_1>,\n",
              " <CwnLemma: 馬齒莧_1>,\n",
              " <CwnLemma: 馬力_1>,\n",
              " <CwnLemma: 下馬_1>,\n",
              " <CwnLemma: 種馬_1>,\n",
              " <CwnLemma: 馬尾藻_1>,\n",
              " <CwnLemma: 海馬_1>,\n",
              " <CwnLemma: 馬鬃_1>,\n",
              " <CwnLemma: 馬背_1>,\n",
              " <CwnLemma: 馬蹄_1>,\n",
              " <CwnLemma: 馬蠅_1>,\n",
              " <CwnLemma: 馬屬_1>,\n",
              " <CwnLemma: 馬兒_1>,\n",
              " <CwnLemma: 小馬_1>,\n",
              " <CwnLemma: 牝馬_1>,\n",
              " <CwnLemma: 新馬_1>,\n",
              " <CwnLemma: 戰馬_1>,\n",
              " <CwnLemma: 野馬_1>,\n",
              " <CwnLemma: 老馬_1>,\n",
              " <CwnLemma: 黑馬_1>,\n",
              " <CwnLemma: 馱馬_1>,\n",
              " <CwnLemma: 驛馬_1>,\n",
              " <CwnLemma: 斑馬_1>,\n",
              " <CwnLemma: 馬來貘_1>,\n",
              " <CwnLemma: 河馬_1>,\n",
              " <CwnLemma: 駱馬_1>,\n",
              " <CwnLemma: 馬尾巴_1>,\n",
              " <CwnLemma: 馬術_1>,\n",
              " <CwnLemma: 羅馬數字_1>,\n",
              " <CwnLemma: 馬拉松_1>,\n",
              " <CwnLemma: 跑馬_1>,\n",
              " <CwnLemma: 馬鈴薯_1>,\n",
              " <CwnLemma: 賽馬會_1>,\n",
              " <CwnLemma: 馬來群島_1>,\n",
              " <CwnLemma: 馬來半島_1>,\n",
              " <CwnLemma: 索馬利亞_1>,\n",
              " <CwnLemma: 飛馬座_1>,\n",
              " <CwnLemma: 亞馬遜河_1>,\n",
              " <CwnLemma: 飛馬_1>,\n",
              " <CwnLemma: 馬來人_1>,\n",
              " <CwnLemma: 馬屁精_1>,\n",
              " <CwnLemma: 馬林魚_1>,\n",
              " <CwnLemma: 琴馬_1>,\n",
              " <CwnLemma: 馬靴_1>,\n",
              " <CwnLemma: 馬車_1>,\n",
              " <CwnLemma: 馬鞭_1>,\n",
              " <CwnLemma: 羅馬人_1>,\n",
              " <CwnLemma: 馬桶_1>,\n",
              " <CwnLemma: 羅馬尼亞_1>,\n",
              " <CwnLemma: 巴拿馬_1>,\n",
              " <CwnLemma: 馬丁路德_1>,\n",
              " <CwnLemma: 大馬士革_1>,\n",
              " <CwnLemma: 瓜地馬拉_1>,\n",
              " <CwnLemma: 木馬_1>,\n",
              " <CwnLemma: 馬其頓_1>,\n",
              " <CwnLemma: 馬來語_1>,\n",
              " <CwnLemma: 馬來西亞_1>,\n",
              " <CwnLemma: 馬爾他_1>,\n",
              " <CwnLemma: 馬蹄鐵_1>,\n",
              " <CwnLemma: 馬褲_1>,\n",
              " <CwnLemma: 馬賽克_1>,\n",
              " <CwnLemma: 馬達_1>,\n",
              " <CwnLemma: 馬克杯_1>,\n",
              " <CwnLemma: 斑馬線_1>,\n",
              " <CwnLemma: 馬刀_1>,\n",
              " <CwnLemma: 馬鞍_1>,\n",
              " <CwnLemma: 馬廄_1>,\n",
              " <CwnLemma: 馬具_1>,\n",
              " <CwnLemma: 馬錶_1>,\n",
              " <CwnLemma: 馬口鐵_1>,\n",
              " <CwnLemma: 三頭馬車_1>,\n",
              " <CwnLemma: 賽馬_1>,\n",
              " <CwnLemma: 馬球_1>,\n",
              " <CwnLemma: 賭馬_1>,\n",
              " <CwnLemma: 馬戲團_1>,\n",
              " <CwnLemma: 馬路_1>,\n",
              " <CwnLemma: 馬虎_1>,\n",
              " <CwnLemma: 拍馬屁_1>,\n",
              " <CwnLemma: 馬屁_1>,\n",
              " <CwnLemma: 草泥馬_None>,\n",
              " <CwnLemma: 馬的_None>,\n",
              " <CwnLemma: 他馬的_None>,\n",
              " <CwnLemma: 馬der_None>]"
            ]
          },
          "metadata": {},
          "execution_count": 10
        }
      ]
    },
    {
      "cell_type": "markdown",
      "source": [
        "#英文wordnet\n",
        "完整用法：https://www.nltk.org/howto/wordnet.html"
      ],
      "metadata": {
        "id": "13NyCY9p_Hpi"
      }
    },
    {
      "cell_type": "code",
      "source": [
        "import nltk\n",
        "nltk.download('wordnet')\n",
        "from nltk.corpus import wordnet as wn\n",
        "wn.synsets('dog')"
      ],
      "metadata": {
        "colab": {
          "base_uri": "https://localhost:8080/"
        },
        "id": "aDX0UHsY-dR5",
        "outputId": "e98bb172-df2b-43a9-a4f4-944e090c7963"
      },
      "execution_count": 11,
      "outputs": [
        {
          "output_type": "stream",
          "name": "stdout",
          "text": [
            "[nltk_data] Downloading package wordnet to /root/nltk_data...\n",
            "[nltk_data]   Unzipping corpora/wordnet.zip.\n"
          ]
        },
        {
          "output_type": "execute_result",
          "data": {
            "text/plain": [
              "[Synset('dog.n.01'),\n",
              " Synset('frump.n.01'),\n",
              " Synset('dog.n.03'),\n",
              " Synset('cad.n.01'),\n",
              " Synset('frank.n.02'),\n",
              " Synset('pawl.n.01'),\n",
              " Synset('andiron.n.01'),\n",
              " Synset('chase.v.01')]"
            ]
          },
          "metadata": {},
          "execution_count": 11
        }
      ]
    }
  ]
}