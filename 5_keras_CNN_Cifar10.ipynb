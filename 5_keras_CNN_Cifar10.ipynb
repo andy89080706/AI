{
  "nbformat": 4,
  "nbformat_minor": 0,
  "metadata": {
    "colab": {
      "name": "5.keras_CNN_Cifar10.ipynb",
      "provenance": []
    },
    "kernelspec": {
      "name": "python3",
      "display_name": "Python 3"
    },
    "language_info": {
      "name": "python"
    },
    "accelerator": "GPU"
  },
  "cells": [
    {
      "cell_type": "code",
      "source": [
        "from tensorflow import keras\n",
        "from keras.models import Sequential\n",
        "from keras.layers import Dense, Conv2D, MaxPooling2D, Flatten\n",
        "model=Sequential()\n",
        "model.add(Conv2D(filters=64, kernel_size=(5, 5), input_shape=(32, 32, 3), activation='relu'))\n",
        "model.add(Conv2D(filters=64, kernel_size=(5, 5), activation='relu'))\n",
        "model.add(MaxPooling2D(pool_size=(2, 2)))\n",
        "model.add(Conv2D(filters=128, kernel_size=(5, 5), activation='relu'))\n",
        "model.add(Conv2D(filters=128, kernel_size=(5, 5), activation='relu'))\n",
        "model.add(MaxPooling2D(pool_size=(2, 2)))\n",
        "model.add(Flatten())\n",
        "model.add(Dense(10, activation='softmax'))\n",
        "model.summary()\n",
        "model.compile(optimizer='rmsprop', loss='categorical_crossentropy', metrics=['accuracy'])"
      ],
      "metadata": {
        "colab": {
          "base_uri": "https://localhost:8080/"
        },
        "id": "LQ_HZ-tK8L-C",
        "outputId": "bf1a348d-19d2-4dc6-b85e-a6438c2bc825"
      },
      "execution_count": 1,
      "outputs": [
        {
          "output_type": "stream",
          "name": "stdout",
          "text": [
            "Model: \"sequential\"\n",
            "_________________________________________________________________\n",
            " Layer (type)                Output Shape              Param #   \n",
            "=================================================================\n",
            " conv2d (Conv2D)             (None, 28, 28, 64)        4864      \n",
            "                                                                 \n",
            " conv2d_1 (Conv2D)           (None, 24, 24, 64)        102464    \n",
            "                                                                 \n",
            " max_pooling2d (MaxPooling2D  (None, 12, 12, 64)       0         \n",
            " )                                                               \n",
            "                                                                 \n",
            " conv2d_2 (Conv2D)           (None, 8, 8, 128)         204928    \n",
            "                                                                 \n",
            " conv2d_3 (Conv2D)           (None, 4, 4, 128)         409728    \n",
            "                                                                 \n",
            " max_pooling2d_1 (MaxPooling  (None, 2, 2, 128)        0         \n",
            " 2D)                                                             \n",
            "                                                                 \n",
            " flatten (Flatten)           (None, 512)               0         \n",
            "                                                                 \n",
            " dense (Dense)               (None, 10)                5130      \n",
            "                                                                 \n",
            "=================================================================\n",
            "Total params: 727,114\n",
            "Trainable params: 727,114\n",
            "Non-trainable params: 0\n",
            "_________________________________________________________________\n"
          ]
        }
      ]
    },
    {
      "cell_type": "code",
      "source": [
        "cifar10=keras.datasets.cifar10\n",
        "(train_data, train_label), (test_data, test_label) = cifar10.load_data()\n",
        "train_label_original=train_label\n",
        "train_label = keras.utils.to_categorical(train_label)\n",
        "test_label = keras.utils.to_categorical(test_label)"
      ],
      "metadata": {
        "id": "4eM5EOSr4DLB",
        "colab": {
          "base_uri": "https://localhost:8080/"
        },
        "outputId": "6fff5798-2b64-4a37-bc64-9a06b21efcdc"
      },
      "execution_count": 2,
      "outputs": [
        {
          "output_type": "stream",
          "name": "stdout",
          "text": [
            "Downloading data from https://www.cs.toronto.edu/~kriz/cifar-10-python.tar.gz\n",
            "170500096/170498071 [==============================] - 2s 0us/step\n",
            "170508288/170498071 [==============================] - 2s 0us/step\n"
          ]
        }
      ]
    },
    {
      "cell_type": "code",
      "source": [
        "import matplotlib.pyplot as plt\n",
        "category=['airplane','automobile','bird','cat','deer','dog','frog','horse','ship','truck']\n",
        "plt.imshow(train_data[0])\n",
        "plt.title(category[int(train_label_original[0])])\n",
        "plt.show()\n",
        "print(train_label_original[0])"
      ],
      "metadata": {
        "colab": {
          "base_uri": "https://localhost:8080/",
          "height": 298
        },
        "id": "4j8cPTbDahQr",
        "outputId": "c9abb93e-2d47-4590-a1c1-503b995d0660"
      },
      "execution_count": 3,
      "outputs": [
        {
          "output_type": "display_data",
          "data": {
            "text/plain": [
              "<Figure size 432x288 with 1 Axes>"
            ],
            "image/png": "[encoded data removed]"
          },
          "metadata": {
            "needs_background": "light"
          }
        },
        {
          "output_type": "stream",
          "name": "stdout",
          "text": [
            "[6]\n"
          ]
        }
      ]
    },
    {
      "cell_type": "code",
      "source": [
        "train_history=model.fit(train_data,train_label,epochs=20,batch_size=512)"
      ],
      "metadata": {
        "id": "UFCQb8bgy3nU",
        "colab": {
          "base_uri": "https://localhost:8080/"
        },
        "outputId": "8fdefeaa-0da4-40b3-ce74-6caac6248328"
      },
      "execution_count": 4,
      "outputs": [
        {
          "output_type": "stream",
          "name": "stdout",
          "text": [
            "Epoch 1/20\n",
            "98/98 [==============================] - 22s 97ms/step - loss: 11.6924 - accuracy: 0.1547\n",
            "Epoch 2/20\n",
            "98/98 [==============================] - 8s 86ms/step - loss: 2.8730 - accuracy: 0.1870\n",
            "Epoch 3/20\n",
            "98/98 [==============================] - 8s 86ms/step - loss: 2.4329 - accuracy: 0.2361\n",
            "Epoch 4/20\n",
            "98/98 [==============================] - 9s 87ms/step - loss: 2.0914 - accuracy: 0.2984\n",
            "Epoch 5/20\n",
            "98/98 [==============================] - 9s 88ms/step - loss: 1.9591 - accuracy: 0.3429\n",
            "Epoch 6/20\n",
            "98/98 [==============================] - 9s 87ms/step - loss: 1.7305 - accuracy: 0.4015\n",
            "Epoch 7/20\n",
            "98/98 [==============================] - 9s 88ms/step - loss: 1.6033 - accuracy: 0.4507\n",
            "Epoch 8/20\n",
            "98/98 [==============================] - 9s 88ms/step - loss: 1.4183 - accuracy: 0.5132\n",
            "Epoch 9/20\n",
            "98/98 [==============================] - 9s 88ms/step - loss: 1.3582 - accuracy: 0.5448\n",
            "Epoch 10/20\n",
            "98/98 [==============================] - 9s 88ms/step - loss: 1.1969 - accuracy: 0.5931\n",
            "Epoch 11/20\n",
            "98/98 [==============================] - 9s 89ms/step - loss: 1.0771 - accuracy: 0.6327\n",
            "Epoch 12/20\n",
            "98/98 [==============================] - 9s 89ms/step - loss: 0.9528 - accuracy: 0.6756\n",
            "Epoch 13/20\n",
            "98/98 [==============================] - 9s 89ms/step - loss: 0.8399 - accuracy: 0.7115\n",
            "Epoch 14/20\n",
            "98/98 [==============================] - 9s 89ms/step - loss: 0.7455 - accuracy: 0.7454\n",
            "Epoch 15/20\n",
            "98/98 [==============================] - 9s 89ms/step - loss: 0.6431 - accuracy: 0.7826\n",
            "Epoch 16/20\n",
            "98/98 [==============================] - 9s 89ms/step - loss: 0.5535 - accuracy: 0.8116\n",
            "Epoch 17/20\n",
            "98/98 [==============================] - 9s 89ms/step - loss: 0.4806 - accuracy: 0.8376\n",
            "Epoch 18/20\n",
            "98/98 [==============================] - 9s 89ms/step - loss: 0.4209 - accuracy: 0.8598\n",
            "Epoch 19/20\n",
            "98/98 [==============================] - 9s 89ms/step - loss: 0.3684 - accuracy: 0.8788\n",
            "Epoch 20/20\n",
            "98/98 [==============================] - 9s 89ms/step - loss: 0.3500 - accuracy: 0.8890\n"
          ]
        }
      ]
    },
    {
      "cell_type": "code",
      "source": [
        "score=model.evaluate(test_data, test_label)\n",
        "print(score[1])"
      ],
      "metadata": {
        "id": "SC2VW7yl87F-",
        "colab": {
          "base_uri": "https://localhost:8080/"
        },
        "outputId": "62de7df2-0c05-41a1-ab67-b79613d31560"
      },
      "execution_count": 5,
      "outputs": [
        {
          "output_type": "stream",
          "name": "stdout",
          "text": [
            "313/313 [==============================] - 3s 9ms/step - loss: 2.2838 - accuracy: 0.5806\n",
            "0.5806000232696533\n"
          ]
        }
      ]
    },
    {
      "cell_type": "code",
      "source": [
        "#繪製正確性與損失立歷史圖\n",
        "import matplotlib.pyplot as plt\n",
        "import numpy as np\n",
        "\n",
        "def show_train_history(train_history, train):\n",
        "    plt.plot(train_history.history[train])\n",
        "    plt.title('Train History')\n",
        "    plt.ylabel(train)\n",
        "    plt.xlabel('Epoch')\n",
        "    plt.legend(['train'], loc='center right')\n",
        "    plt.show()\n",
        "\n",
        "show_train_history(train_history, 'accuracy')\n",
        "show_train_history(train_history, 'loss')"
      ],
      "metadata": {
        "colab": {
          "base_uri": "https://localhost:8080/",
          "height": 573
        },
        "id": "YycOQ_auS_1s",
        "outputId": "c938bb4b-c6f0-4211-f2d7-36e503439bc5"
      },
      "execution_count": 6,
      "outputs": [
        {
          "output_type": "display_data",
          "data": {
            "text/plain": [
              "<Figure size 432x288 with 1 Axes>"
            ],
            "image/png": "[encoded data removed]"
          },
          "metadata": {
            "needs_background": "light"
          }
        },
        {
          "output_type": "display_data",
          "data": {
            "text/plain": [
              "<Figure size 432x288 with 1 Axes>"
            ],
            "image/png": "[encoded data removed]"
          },
          "metadata": {
            "needs_background": "light"
          }
        }
      ]
    },
    {
      "cell_type": "code",
      "source": [
        ""
      ],
      "metadata": {
        "id": "PJeMWcO-TaSA"
      },
      "execution_count": null,
      "outputs": []
    }
  ]
}